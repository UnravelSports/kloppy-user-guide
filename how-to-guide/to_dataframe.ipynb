{
 "cells": [
  {
   "cell_type": "markdown",
   "metadata": {},
   "source": [
    "# Converting Kloppy Dataset to Polars DataFrame"
   ]
  },
  {
   "cell_type": "markdown",
   "metadata": {},
   "source": [
    "### Setup\n",
    "Start by loading some event data using the Kloppy module. For the sake of this demonstration, we will use Statsbomb Open Event Data."
   ]
  },
  {
   "cell_type": "code",
   "execution_count": null,
   "metadata": {},
   "outputs": [],
   "source": [
    "from kloppy import statsbomb\n",
    "\n",
    "# Load Statsbomb open dataset\n",
    "dataset = statsbomb.load_open_data(\n",
    "    match_id=15946,\n",
    "    # Optional arguments\n",
    "    coordinates=\"statsbomb\",\n",
    ")"
   ]
  },
  {
   "cell_type": "markdown",
   "metadata": {},
   "source": [
    "Test if the loading worked by printing the home and away teams."
   ]
  },
  {
   "cell_type": "code",
   "execution_count": 2,
   "metadata": {},
   "outputs": [
    {
     "data": {
      "text/plain": [
       "'Barcelona vs Deportivo Alavés'"
      ]
     },
     "execution_count": 2,
     "metadata": {},
     "output_type": "execute_result"
    }
   ],
   "source": [
    "# Get teams\n",
    "home_team, away_team = dataset.metadata.teams\n",
    "f\"{home_team} vs {away_team}\""
   ]
  },
  {
   "cell_type": "markdown",
   "metadata": {},
   "source": [
    "### Filter the `shot` events from the dataset. "
   ]
  },
  {
   "cell_type": "code",
   "execution_count": 3,
   "metadata": {},
   "outputs": [],
   "source": [
    "# Only keep shots\n",
    "shots = dataset.filter(\"shot\")"
   ]
  },
  {
   "cell_type": "markdown",
   "metadata": {},
   "source": [
    "### Convert to Polars DataFrame\n",
    "Parameters:\n",
    "\n",
    "- `player_id`: Includes the player’s unique identifier.\n",
    "\n",
    "- Lambda function: Extracts `player_name` and `is_goal` status from each shot event.\n",
    "    - `player_name`: Converts the player object to a string.\n",
    "    - `is_goal`: Retrieves whether the shot resulted in a goal (True or False).\n",
    "\n",
    "- `coordinates_*`: Includes all coordinate-related fields in the dataset.\n",
    "\n",
    "- `prev_pass_player`: Captures the player who made the pass before the shot.\n",
    "\n",
    "- `engine=\"polars\"`: Specifies the use of the Polars library for DataFrame processing. Alternatively, using `engine=\"pandas\"` would convert the dataset into a Pandas DataFrame. "
   ]
  },
  {
   "cell_type": "code",
   "execution_count": 5,
   "metadata": {},
   "outputs": [
    {
     "data": {
      "text/html": [
       "<div><style>\n",
       ".dataframe > thead > tr,\n",
       ".dataframe > tbody > tr {\n",
       "  text-align: right;\n",
       "  white-space: pre-wrap;\n",
       "}\n",
       "</style>\n",
       "<small>shape: (28, 6)</small><table border=\"1\" class=\"dataframe\"><thead><tr><th>player_id</th><th>player_name</th><th>is_goal</th><th>coordinates_x</th><th>coordinates_y</th><th>prev_pass_player</th></tr><tr><td>str</td><td>str</td><td>bool</td><td>f64</td><td>f64</td><td>str</td></tr></thead><tbody><tr><td>&quot;5503&quot;</td><td>&quot;Lionel Andrés Messi Cuccittini&quot;</td><td>false</td><td>111.45</td><td>52.85</td><td>&quot;Ivan Rakitić&quot;</td></tr><tr><td>&quot;5211&quot;</td><td>&quot;Jordi Alba Ramos&quot;</td><td>false</td><td>113.85</td><td>26.35</td><td>&quot;Lionel Andrés Messi Cuccittini&quot;</td></tr><tr><td>&quot;5503&quot;</td><td>&quot;Lionel Andrés Messi Cuccittini&quot;</td><td>false</td><td>93.65</td><td>34.65</td><td>&quot;Rubén Duarte Sánchez&quot;</td></tr><tr><td>&quot;6613&quot;</td><td>&quot;Rubén Sobrino Pozuelo&quot;</td><td>false</td><td>109.15</td><td>39.05</td><td>&quot;Manuel Alejandro García Sánche…</td></tr><tr><td>&quot;5246&quot;</td><td>&quot;Luis Alberto Suárez Díaz&quot;</td><td>false</td><td>107.75</td><td>24.65</td><td>&quot;Ousmane Dembélé&quot;</td></tr><tr><td>&hellip;</td><td>&hellip;</td><td>&hellip;</td><td>&hellip;</td><td>&hellip;</td><td>&hellip;</td></tr><tr><td>&quot;6935&quot;</td><td>&quot;Adrián Marín Gómez&quot;</td><td>false</td><td>114.45</td><td>32.75</td><td>&quot;Ibai Gómez Pérez&quot;</td></tr><tr><td>&quot;3501&quot;</td><td>&quot;Philippe Coutinho Correia&quot;</td><td>false</td><td>113.15</td><td>31.35</td><td>&quot;Lionel Andrés Messi Cuccittini&quot;</td></tr><tr><td>&quot;3501&quot;</td><td>&quot;Philippe Coutinho Correia&quot;</td><td>true</td><td>105.25</td><td>33.35</td><td>&quot;Arthur Henrique Ramos de Olive…</td></tr><tr><td>&quot;5503&quot;</td><td>&quot;Lionel Andrés Messi Cuccittini&quot;</td><td>false</td><td>106.55</td><td>46.75</td><td>&quot;Sergi Roberto Carnicer&quot;</td></tr><tr><td>&quot;5503&quot;</td><td>&quot;Lionel Andrés Messi Cuccittini&quot;</td><td>true</td><td>111.45</td><td>36.15</td><td>&quot;Luis Alberto Suárez Díaz&quot;</td></tr></tbody></table></div>"
      ],
      "text/plain": [
       "shape: (28, 6)\n",
       "┌───────────┬──────────────────────┬─────────┬───────────────┬───────────────┬─────────────────────┐\n",
       "│ player_id ┆ player_name          ┆ is_goal ┆ coordinates_x ┆ coordinates_y ┆ prev_pass_player    │\n",
       "│ ---       ┆ ---                  ┆ ---     ┆ ---           ┆ ---           ┆ ---                 │\n",
       "│ str       ┆ str                  ┆ bool    ┆ f64           ┆ f64           ┆ str                 │\n",
       "╞═══════════╪══════════════════════╪═════════╪═══════════════╪═══════════════╪═════════════════════╡\n",
       "│ 5503      ┆ Lionel Andrés Messi  ┆ false   ┆ 111.45        ┆ 52.85         ┆ Ivan Rakitić        │\n",
       "│           ┆ Cuccittini           ┆         ┆               ┆               ┆                     │\n",
       "│ 5211      ┆ Jordi Alba Ramos     ┆ false   ┆ 113.85        ┆ 26.35         ┆ Lionel Andrés Messi │\n",
       "│           ┆                      ┆         ┆               ┆               ┆ Cuccittini          │\n",
       "│ 5503      ┆ Lionel Andrés Messi  ┆ false   ┆ 93.65         ┆ 34.65         ┆ Rubén Duarte        │\n",
       "│           ┆ Cuccittini           ┆         ┆               ┆               ┆ Sánchez             │\n",
       "│ 6613      ┆ Rubén Sobrino        ┆ false   ┆ 109.15        ┆ 39.05         ┆ Manuel Alejandro    │\n",
       "│           ┆ Pozuelo              ┆         ┆               ┆               ┆ García Sánche…      │\n",
       "│ 5246      ┆ Luis Alberto Suárez  ┆ false   ┆ 107.75        ┆ 24.65         ┆ Ousmane Dembélé     │\n",
       "│           ┆ Díaz                 ┆         ┆               ┆               ┆                     │\n",
       "│ …         ┆ …                    ┆ …       ┆ …             ┆ …             ┆ …                   │\n",
       "│ 6935      ┆ Adrián Marín Gómez   ┆ false   ┆ 114.45        ┆ 32.75         ┆ Ibai Gómez Pérez    │\n",
       "│ 3501      ┆ Philippe Coutinho    ┆ false   ┆ 113.15        ┆ 31.35         ┆ Lionel Andrés Messi │\n",
       "│           ┆ Correia              ┆         ┆               ┆               ┆ Cuccittini          │\n",
       "│ 3501      ┆ Philippe Coutinho    ┆ true    ┆ 105.25        ┆ 33.35         ┆ Arthur Henrique     │\n",
       "│           ┆ Correia              ┆         ┆               ┆               ┆ Ramos de Olive…     │\n",
       "│ 5503      ┆ Lionel Andrés Messi  ┆ false   ┆ 106.55        ┆ 46.75         ┆ Sergi Roberto       │\n",
       "│           ┆ Cuccittini           ┆         ┆               ┆               ┆ Carnicer            │\n",
       "│ 5503      ┆ Lionel Andrés Messi  ┆ true    ┆ 111.45        ┆ 36.15         ┆ Luis Alberto Suárez │\n",
       "│           ┆ Cuccittini           ┆         ┆               ┆               ┆ Díaz                │\n",
       "└───────────┴──────────────────────┴─────────┴───────────────┴───────────────┴─────────────────────┘"
      ]
     },
     "execution_count": 5,
     "metadata": {},
     "output_type": "execute_result"
    }
   ],
   "source": [
    "# Convert Kloppy dataset to Polars DataFrame\n",
    "shots.to_df(\n",
    "    \"player_id\",\n",
    "    lambda event: {\n",
    "        \"player_name\": str(event.player),\n",
    "        \"is_goal\": event.result.is_success,\n",
    "    },\n",
    "    \"coordinates_*\",\n",
    "    prev_pass_player=lambda event: str(event.prev(\"pass\").player),\n",
    "    engine=\"polars\",\n",
    ")"
   ]
  }
 ],
 "metadata": {
  "kernelspec": {
   "display_name": "gemini-sports",
   "language": "python",
   "name": "python3"
  },
  "language_info": {
   "codemirror_mode": {
    "name": "ipython",
    "version": 3
   },
   "file_extension": ".py",
   "mimetype": "text/x-python",
   "name": "python",
   "nbconvert_exporter": "python",
   "pygments_lexer": "ipython3",
   "version": "3.9.13"
  }
 },
 "nbformat": 4,
 "nbformat_minor": 2
}
