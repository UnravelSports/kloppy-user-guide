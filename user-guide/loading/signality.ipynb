{
 "cells": [
  {
   "metadata": {},
   "cell_type": "markdown",
   "source": [
    "# Signality\n",
    "\n",
    "Signality has the following raw data json files required for loading:\n",
    "- venue information\n",
    "- match meta data\n",
    "- raw tracking data (one file per period)\n",
    "\n"
   ],
   "id": "3175dd63dee9ea5"
  },
  {
   "metadata": {},
   "cell_type": "markdown",
   "source": "# Loading signality data\n",
   "id": "6195587612833e53"
  },
  {
   "metadata": {},
   "cell_type": "code",
   "outputs": [],
   "execution_count": null,
   "source": [
    "from kloppy import signality\n",
    "\n",
    "dataset = signality.load(\n",
    "    meta_data=\"../../kloppy/tests/files/signality_meta_data.json\",\n",
    "    raw_data_feeds=[\n",
    "            \"../../kloppy/tests/files/signality_p1_raw_data_subset.json\",\n",
    "            \"../../kloppy/tests/signality_p2_raw_data_subset.json\",\n",
    "        ],\n",
    "    venue_information=\"../../kloppy/tests/files/signality_venue_information.json\",\n",
    "\n",
    "    # Optional arguments\n",
    "    sample_rate=1/10,\n",
    "    limit=100,\n",
    "    coordinates=\"signality\",\n",
    "    include_empty_frames=False\n",
    ")\n",
    "\n",
    "dataset.to_df().head()"
   ],
   "id": "b046f40783ed0459"
  }
 ],
 "metadata": {},
 "nbformat": 5,
 "nbformat_minor": 9
}
